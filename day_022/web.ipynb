{
 "cells": [
  {
   "attachments": {},
   "cell_type": "markdown",
   "metadata": {},
   "source": [
    "Q1"
   ]
  },
  {
   "cell_type": "code",
   "execution_count": null,
   "metadata": {},
   "outputs": [],
   "source": [
    "import json\n",
    "import requests\n",
    "from bs4 import BeautifulSoup\n",
    "\n",
    "url = 'http://www.bu.edu/president/boston-university-facts-stats/'\n",
    "response = requests.get(url)\n",
    "content = response.content\n",
    "soup = BeautifulSoup(content, 'html.parser')\n",
    "facts = soup.body.get_text()\n",
    "print(soup.body.get_text())\n",
    "with open('boston_facts.json','w') as f:\n",
    "    json.dump(facts,f)"
   ]
  },
  {
   "attachments": {},
   "cell_type": "markdown",
   "metadata": {},
   "source": [
    "Q2"
   ]
  },
  {
   "cell_type": "code",
   "execution_count": null,
   "metadata": {},
   "outputs": [],
   "source": [
    "url = 'https://archive.ics.uci.edu/ml/datasets.php'\n",
    "\n",
    "response = requests.get(url)\n",
    "content = response.content # we get all the content from the website\n",
    "soup = BeautifulSoup(content, 'html.parser') # beautiful soup will give a chance to parse\n",
    "print(soup.title) # <title>UCI Machine Learning Repository: Data Sets</title>\n",
    "print(soup.title.get_text()) # UCI Machine Learning Repository: Data Sets\n",
    "print(soup.body) # gives the whole page on the website\n",
    "print(response.status_code)\n",
    "\n",
    "table = soup.find('table', attrs={'border': '1','cellpadding':'5'})\n",
    "table_json = json.dumps(table.get_text())\n",
    "print(table.get_text())\n",
    "# We are targeting the table with cellpadding attribute with the value of 3\n",
    "# We can select using id, class or HTML tag , for more information check the beautifulsoup doc\n",
    "with open('dataset_table.json','w') as f:\n",
    "    f.write(table_json)"
   ]
  },
  {
   "attachments": {},
   "cell_type": "markdown",
   "metadata": {},
   "source": [
    "Q3"
   ]
  },
  {
   "cell_type": "code",
   "execution_count": null,
   "metadata": {},
   "outputs": [],
   "source": [
    "url = 'https://en.wikipedia.org/wiki/List_of_presidents_of_the_United_States'\n",
    "response = requests.get(url)\n",
    "\n",
    "# Parse the HTML code using BeautifulSoup\n",
    "soup = BeautifulSoup(response.content, 'html.parser')\n",
    "\n",
    "# Find the presidents table and extract the data\n",
    "table = soup.find('table', {'class': 'wikitable sortable'})\n",
    "headers = [header.text.strip() for header in table.find_all('th')]\n",
    "rows = []\n",
    "for row in table.find_all('tr')[1:]:\n",
    "    cells = [cell.text.strip() for cell in row.find_all('td')]\n",
    "    rows.append(dict(zip(headers, cells)))\n",
    "\n",
    "# Store the data as JSON\n",
    "with open('presidents.json', 'w') as f:\n",
    "    json.dump(rows, f)"
   ]
  }
 ],
 "metadata": {
  "kernelspec": {
   "display_name": "Python 3",
   "language": "python",
   "name": "python3"
  },
  "language_info": {
   "name": "python",
   "version": "3.11.1"
  },
  "orig_nbformat": 4
 },
 "nbformat": 4,
 "nbformat_minor": 2
}
